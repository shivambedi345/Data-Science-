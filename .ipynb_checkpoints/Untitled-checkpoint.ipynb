{
 "cells": [
  {
   "cell_type": "code",
   "execution_count": 20,
   "id": "79de367b-05ab-44e0-a19d-0a28380c0b8e",
   "metadata": {},
   "outputs": [],
   "source": [
    "import numpy as np"
   ]
  },
  {
   "cell_type": "code",
   "execution_count": 11,
   "id": "247f05cc-f034-4a50-87f4-a3631d1336ae",
   "metadata": {},
   "outputs": [
    {
     "name": "stdout",
     "output_type": "stream",
     "text": [
      "[1 2 3]\n",
      "------------\n",
      "[1, 2, 3]\n"
     ]
    }
   ],
   "source": [
    "x = np.array([1, 2, 3])\n",
    "y = [1, 2, 3]\n",
    "print(x)\n",
    "print(\"------------\")\n",
    "print(y)"
   ]
  },
  {
   "cell_type": "code",
   "execution_count": 16,
   "id": "f61f1c31-0b65-4154-9b4f-a9cc061c2296",
   "metadata": {},
   "outputs": [
    {
     "name": "stdout",
     "output_type": "stream",
     "text": [
      "482 ns ± 19 ns per loop (mean ± std. dev. of 7 runs, 1,000,000 loops each)\n"
     ]
    }
   ],
   "source": [
    "%timeit [j**4 for j in range(1,9)]"
   ]
  },
  {
   "cell_type": "code",
   "execution_count": 26,
   "id": "c259de41-4f23-425c-993d-5ad5eaf1186d",
   "metadata": {},
   "outputs": [
    {
     "name": "stdout",
     "output_type": "stream",
     "text": [
      "1.42 μs ± 153 ns per loop (mean ± std. dev. of 7 runs, 100,000 loops each)\n"
     ]
    }
   ],
   "source": [
    "import numpy as np\n",
    "%timeit np.arange(1,9)**4"
   ]
  },
  {
   "cell_type": "markdown",
   "id": "704534bf-c53e-4cc4-868f-191a3ce4d6f4",
   "metadata": {},
   "source": [
    "# creating numpy arrays\n"
   ]
  },
  {
   "cell_type": "code",
   "execution_count": 32,
   "id": "aae4759b-2682-46a9-9e1a-d656accef82b",
   "metadata": {},
   "outputs": [
    {
     "name": "stdout",
     "output_type": "stream",
     "text": [
      "[1 3 4]\n",
      "[2 4 5]\n"
     ]
    }
   ],
   "source": [
    "a = np.array([1, 3, 4])\n",
    "b = np.array([2, 4, 5])\n",
    "print(a)\n",
    "print(b)"
   ]
  },
  {
   "cell_type": "code",
   "execution_count": 45,
   "id": "c458223e-c83f-4e9f-8482-9725bbe8c557",
   "metadata": {},
   "outputs": [
    {
     "name": "stdout",
     "output_type": "stream",
     "text": [
      "[1 2 3 4]\n",
      "<class 'numpy.ndarray'>\n",
      "1\n"
     ]
    }
   ],
   "source": [
    "x = [1, 2, 3, 4]\n",
    "y = np.array(x)\n",
    "print(y)\n",
    "y\n",
    "print(type(y))\n",
    "print(y.ndim)"
   ]
  },
  {
   "cell_type": "code",
   "execution_count": 49,
   "id": "44ad1ff3-29b6-4619-aad7-48137f468df2",
   "metadata": {},
   "outputs": [
    {
     "name": "stdin",
     "output_type": "stream",
     "text": [
      "enter your value 2\n",
      "enter your value 3\n",
      "enter your value 33\n",
      "enter your value 3\n"
     ]
    },
    {
     "name": "stdout",
     "output_type": "stream",
     "text": [
      "[ 2  3 33  3]\n"
     ]
    }
   ],
   "source": [
    "l = []\n",
    "for i in range(1,5):\n",
    "    int_1 = int(input(\"enter your value\"))\n",
    "    l.append(int_1)\n",
    "\n",
    "print(np.array(l))\n"
   ]
  },
  {
   "cell_type": "markdown",
   "id": "475cb93a-1d0a-402d-8f7e-d0e00f50ace0",
   "metadata": {},
   "source": [
    "# Types of arrays \n"
   ]
  },
  {
   "cell_type": "code",
   "execution_count": 56,
   "id": "a8bfee3e-f08f-4ba3-bffb-77f375b2a60c",
   "metadata": {},
   "outputs": [
    {
     "name": "stdout",
     "output_type": "stream",
     "text": [
      "[[1 2 3 4]\n",
      " [1 2 5 3]]\n",
      "2\n"
     ]
    }
   ],
   "source": [
    "# 2d array\n",
    "ar2 = np.array([[1,2,3,4],[1,2,5,3]])\n",
    "print(ar2)\n",
    "print(ar2.ndim)"
   ]
  },
  {
   "cell_type": "code",
   "execution_count": 58,
   "id": "7b425e52-0519-4a8a-a686-fe08a635e91b",
   "metadata": {},
   "outputs": [
    {
     "name": "stdout",
     "output_type": "stream",
     "text": [
      "[[[1 2 3]\n",
      "  [2 3 4]\n",
      "  [2 3 4]]]\n",
      "3\n"
     ]
    }
   ],
   "source": [
    "# 3d array\n",
    "ar3 = np.array([[[1,2,3],[2,3,4],[2,3,4]]])\n",
    "print(ar3)\n",
    "print(ar3.ndim)"
   ]
  },
  {
   "cell_type": "code",
   "execution_count": 67,
   "id": "b3acec19-6f46-44da-8829-a155c51e5b63",
   "metadata": {},
   "outputs": [
    {
     "name": "stdout",
     "output_type": "stream",
     "text": [
      "[[[[[[[[[[1 2 3 4 5 6]]]]]]]]]]\n",
      "10\n"
     ]
    }
   ],
   "source": [
    "arm = np.array([1,2,3,4,5,6], ndmin = 10)\n",
    "print(arm)\n",
    "print(arm.ndim)"
   ]
  },
  {
   "cell_type": "markdown",
   "id": "e7475e02-7fb1-424e-9c67-5ea0a4b1322f",
   "metadata": {},
   "source": [
    "## special numpy array \n",
    "- array filled with 0\n",
    "- array filed with 1\n",
    "- create an empty array\n",
    "- an array with a range of elements\n",
    "- array diagnal elements filled with 1's\n",
    "- create an array with values that are spaced linearly in a specified intervsl "
   ]
  },
  {
   "cell_type": "markdown",
   "id": "6997d566-484d-4763-bc4a-71a0fc1288b7",
   "metadata": {},
   "source": [
    " - ### Array filled with 0"
   ]
  },
  {
   "cell_type": "code",
   "execution_count": 79,
   "id": "2a1f34e6-a6c5-4031-85bb-8585da6d5c20",
   "metadata": {},
   "outputs": [
    {
     "name": "stdout",
     "output_type": "stream",
     "text": [
      "[0. 0. 0. 0.]\n",
      "\n",
      "[[0. 0. 0. 0.]\n",
      " [0. 0. 0. 0.]\n",
      " [0. 0. 0. 0.]]\n"
     ]
    }
   ],
   "source": [
    "import numpy as np\n",
    "ar_zero = np.zeros(4)\n",
    "ar_zero1 = np.zeros((3,4))\n",
    "print(ar_zero)\n",
    "print()\n",
    "print(ar_zero1)"
   ]
  },
  {
   "cell_type": "markdown",
   "id": "48f53e0a-5eb7-4dab-923e-8bc8f5bf93f7",
   "metadata": {},
   "source": [
    "- ### Array filed with 1"
   ]
  },
  {
   "cell_type": "code",
   "execution_count": 82,
   "id": "80e281ba-80b5-4ad2-a97a-eec07b05f646",
   "metadata": {},
   "outputs": [
    {
     "name": "stdout",
     "output_type": "stream",
     "text": [
      "[1. 1. 1. 1. 1.]\n"
     ]
    }
   ],
   "source": [
    "ar_one = np.ones(5)\n",
    "print(ar_one)"
   ]
  },
  {
   "cell_type": "code",
   "execution_count": 84,
   "id": "07902623-910d-416b-93b8-1f98eafb0d10",
   "metadata": {},
   "outputs": [
    {
     "name": "stdout",
     "output_type": "stream",
     "text": [
      "[[1. 1. 1. 1. 1.]\n",
      " [1. 1. 1. 1. 1.]]\n"
     ]
    }
   ],
   "source": [
    "ar_one1 = np.ones((2,5))\n",
    "print(ar_one1)"
   ]
  },
  {
   "cell_type": "markdown",
   "id": "d6993132-c317-4778-b59a-a535999eacb8",
   "metadata": {},
   "source": [
    "- ### Empty"
   ]
  },
  {
   "cell_type": "code",
   "execution_count": 87,
   "id": "e6587400-f52a-4a32-aa3b-06d32ee0c887",
   "metadata": {},
   "outputs": [
    {
     "name": "stdout",
     "output_type": "stream",
     "text": [
      "[0. 0. 0. 0.]\n"
     ]
    }
   ],
   "source": [
    "ar_em = np.empty(4)\n",
    "print(ar_em)"
   ]
  },
  {
   "cell_type": "markdown",
   "id": "b3afc9b8-4976-4ce2-bbde-c7c928b993c4",
   "metadata": {},
   "source": [
    "- ### Range arrray"
   ]
  },
  {
   "cell_type": "code",
   "execution_count": 91,
   "id": "ada86dbf-e7e5-4429-885d-216cd874fe36",
   "metadata": {},
   "outputs": [
    {
     "name": "stdout",
     "output_type": "stream",
     "text": [
      "[0 1 2 3]\n"
     ]
    }
   ],
   "source": [
    "ar_rn = np.arange(4)\n",
    "print(ar_rn)"
   ]
  },
  {
   "cell_type": "markdown",
   "id": "0061d112-4cb6-4d28-b9f8-91794f9a7314",
   "metadata": {},
   "source": [
    "- ### Array diagnal elements filled with 1's"
   ]
  },
  {
   "cell_type": "code",
   "execution_count": 98,
   "id": "41772363-2859-421a-b1fc-bb27e247d89b",
   "metadata": {},
   "outputs": [
    {
     "name": "stdout",
     "output_type": "stream",
     "text": [
      "[[1. 0. 0. 0. 0.]\n",
      " [0. 1. 0. 0. 0.]\n",
      " [0. 0. 1. 0. 0.]]\n"
     ]
    }
   ],
   "source": [
    "ar_di = np.eye(3,5)\n",
    "print(ar_di)         # try to use sq matrix"
   ]
  },
  {
   "cell_type": "markdown",
   "id": "8a425bd3-2d12-40f9-81ad-ec8c6a7d7347",
   "metadata": {},
   "source": [
    "- ###  Create an array with values that are spaced linearly in a specified intervsl"
   ]
  },
  {
   "cell_type": "code",
   "execution_count": 106,
   "id": "ea32a427-f45b-4fa8-8baa-d29603ae5b32",
   "metadata": {},
   "outputs": [
    {
     "name": "stdout",
     "output_type": "stream",
     "text": [
      "[ 0.   2.5  5.   7.5 10. ]\n"
     ]
    }
   ],
   "source": [
    "# linespace function\n",
    "ar_lin = np.linspace(0,10,num=5)\n",
    "print(ar_lin)"
   ]
  },
  {
   "cell_type": "markdown",
   "id": "bcf2fe22-34a0-4278-b35e-7ba36a0032d2",
   "metadata": {},
   "source": [
    "# Create numpy arrays with random numbers\n",
    "- rand() -> 0 to 1\n",
    "- randn() -> number close to zero and +ve as well as -ve\n",
    "- ranf()   -> [0,1)\n",
    "- randint() -> given range"
   ]
  },
  {
   "cell_type": "code",
   "execution_count": 113,
   "id": "08df8f0d-ca05-4a0e-ba55-97953fb7ed15",
   "metadata": {},
   "outputs": [
    {
     "name": "stdout",
     "output_type": "stream",
     "text": [
      "[0.85506332 0.42413207 0.87659704 0.22236857 0.91108564]\n"
     ]
    }
   ],
   "source": [
    "var = np.random.rand(5)\n",
    "print(var)"
   ]
  },
  {
   "cell_type": "code",
   "execution_count": 117,
   "id": "5652f88b-903a-4918-9954-cf310e826b95",
   "metadata": {},
   "outputs": [
    {
     "name": "stdout",
     "output_type": "stream",
     "text": [
      "[[0.93914649 0.78987126 0.73804846 0.102883   0.92653846]\n",
      " [0.07774728 0.14907826 0.17811358 0.92001097 0.12444367]]\n"
     ]
    }
   ],
   "source": [
    "var1 = np.random.rand(2,5)\n",
    "print(var1)"
   ]
  },
  {
   "cell_type": "code",
   "execution_count": 122,
   "id": "32619408-aad8-4b9f-bf64-cb9c1f5ace4e",
   "metadata": {},
   "outputs": [
    {
     "name": "stdout",
     "output_type": "stream",
     "text": [
      "[ 0.19399287 -1.33852963  0.03604821 -0.61977428 -0.06290999]\n"
     ]
    }
   ],
   "source": [
    "var2 = np.random.randn(5)\n",
    "print(var2)"
   ]
  },
  {
   "cell_type": "code",
   "execution_count": 124,
   "id": "3972ea2e-69f9-4064-95fc-644b9990e562",
   "metadata": {},
   "outputs": [
    {
     "name": "stdout",
     "output_type": "stream",
     "text": [
      "[0.39546997 0.62399904 0.05138435 0.26707344]\n"
     ]
    }
   ],
   "source": [
    "var3 = np.random.ranf(4)\n",
    "print(var3)"
   ]
  },
  {
   "cell_type": "code",
   "execution_count": 134,
   "id": "0d5ce764-3917-41e2-9a21-a948c02a1ab5",
   "metadata": {},
   "outputs": [
    {
     "name": "stdout",
     "output_type": "stream",
     "text": [
      "[13  6 15 18  9]\n"
     ]
    }
   ],
   "source": [
    "var4 = np.random.randint(5,20,5)\n",
    "print(var4)"
   ]
  },
  {
   "cell_type": "markdown",
   "id": "028b3c52-7845-4ed5-8119-5689d7f3ccb7",
   "metadata": {},
   "source": [
    "# Data type in numpy array"
   ]
  },
  {
   "cell_type": "code",
   "execution_count": 139,
   "id": "07a10f08-91e5-4bd3-9464-62dc2b3136bc",
   "metadata": {},
   "outputs": [
    {
     "name": "stdout",
     "output_type": "stream",
     "text": [
      "Data type: int32\n"
     ]
    }
   ],
   "source": [
    " var = np.array([1,2,34,4,345])\n",
    "print(\"Data type:\",var.dtype)"
   ]
  },
  {
   "cell_type": "code",
   "execution_count": 141,
   "id": "1e763e6c-c373-47f1-a526-2fe0e24421d3",
   "metadata": {},
   "outputs": [
    {
     "name": "stdout",
     "output_type": "stream",
     "text": [
      "Data type: float64\n"
     ]
    }
   ],
   "source": [
    " var = np.array([1.0,2.5,3.4,4,3.45])\n",
    "print(\"Data type:\",var.dtype)"
   ]
  },
  {
   "cell_type": "code",
   "execution_count": 143,
   "id": "22d7a5f1-6b07-4e5d-b15a-4c7426cec98f",
   "metadata": {},
   "outputs": [
    {
     "name": "stdout",
     "output_type": "stream",
     "text": [
      "Data type: <U1\n"
     ]
    }
   ],
   "source": [
    " var = np.array(['a','v'])\n",
    "print(\"Data type:\",var.dtype)"
   ]
  },
  {
   "cell_type": "code",
   "execution_count": 149,
   "id": "c7107a04-94d6-4ee3-bd00-c75e8ab8d389",
   "metadata": {},
   "outputs": [
    {
     "name": "stdout",
     "output_type": "stream",
     "text": [
      "Data type int8\n",
      "[1 2 3 4]\n"
     ]
    }
   ],
   "source": [
    "x = np.array([1,2,3,4],dtype = np.int8)\n",
    "print(\"Data type\" , x.dtype)\n",
    "print(x)"
   ]
  },
  {
   "cell_type": "code",
   "execution_count": 151,
   "id": "8d22e5aa-ea84-4348-a524-84e2f826c3d6",
   "metadata": {},
   "outputs": [
    {
     "name": "stdout",
     "output_type": "stream",
     "text": [
      "Data type float32\n",
      "[1. 2. 3. 4.]\n"
     ]
    }
   ],
   "source": [
    "x1 = np.array([1,2,3,4],dtype = \"f\")\n",
    "print(\"Data type\" , x1.dtype)\n",
    "print(x1)"
   ]
  },
  {
   "cell_type": "code",
   "execution_count": 155,
   "id": "7d7ae884-d117-434e-b5ad-04642577e96f",
   "metadata": {},
   "outputs": [
    {
     "name": "stdout",
     "output_type": "stream",
     "text": [
      "Data type int32\n",
      "Data type float32\n",
      "Data type int32\n",
      "[1 2 3 4]\n",
      "[1. 2. 3. 4.]\n",
      "[1 2 3 4]\n"
     ]
    }
   ],
   "source": [
    "x2 = np.array([1,2,3,4])\n",
    "new = np.float32(x2)\n",
    "new1 = np.int_(new)\n",
    "print(\"Data type\" , x2.dtype)\n",
    "print(\"Data type\" , new.dtype)\n",
    "print(\"Data type\" , new1.dtype)\n",
    "print(x2)\n",
    "print(new)\n",
    "print(new1)"
   ]
  },
  {
   "cell_type": "code",
   "execution_count": null,
   "id": "2a13bf8e-7b34-4071-89ba-47755366bbe0",
   "metadata": {},
   "outputs": [],
   "source": []
  }
 ],
 "metadata": {
  "kernelspec": {
   "display_name": "Python [conda env:base] *",
   "language": "python",
   "name": "conda-base-py"
  },
  "language_info": {
   "codemirror_mode": {
    "name": "ipython",
    "version": 3
   },
   "file_extension": ".py",
   "mimetype": "text/x-python",
   "name": "python",
   "nbconvert_exporter": "python",
   "pygments_lexer": "ipython3",
   "version": "3.12.7"
  }
 },
 "nbformat": 4,
 "nbformat_minor": 5
}
