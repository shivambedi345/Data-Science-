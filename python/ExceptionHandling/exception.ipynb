{
 "cells": [
  {
   "cell_type": "markdown",
   "id": "56ca6d18",
   "metadata": {},
   "source": [
    "### EXCEPTION HNDLING:\n",
    "\n",
    "- syntax error - at compilation time\n",
    "- Exceptions - at executiton time\n"
   ]
  },
  {
   "cell_type": "markdown",
   "id": "c2870e58",
   "metadata": {},
   "source": [
    "#### 1. syntax error\n"
   ]
  },
  {
   "cell_type": "code",
   "execution_count": 1,
   "id": "0e12b48e",
   "metadata": {},
   "outputs": [
    {
     "ename": "SyntaxError",
     "evalue": "Missing parentheses in call to 'print'. Did you mean print(...)? (2473303995.py, line 2)",
     "output_type": "error",
     "traceback": [
      "\u001b[1;36m  Cell \u001b[1;32mIn[1], line 2\u001b[1;36m\u001b[0m\n\u001b[1;33m    print\"Hello, World!\"\u001b[0m\n\u001b[1;37m    ^\u001b[0m\n\u001b[1;31mSyntaxError\u001b[0m\u001b[1;31m:\u001b[0m Missing parentheses in call to 'print'. Did you mean print(...)?\n"
     ]
    }
   ],
   "source": [
    "# syntax errorr- erroor detected by interpreter or compiler\n",
    "print\"Hello, World!\"\n"
   ]
  },
  {
   "cell_type": "code",
   "execution_count": 2,
   "id": "4b57e784",
   "metadata": {},
   "outputs": [
    {
     "ename": "SyntaxError",
     "evalue": "expected ':' (546681204.py, line 2)",
     "output_type": "error",
     "traceback": [
      "\u001b[1;36m  Cell \u001b[1;32mIn[2], line 2\u001b[1;36m\u001b[0m\n\u001b[1;33m    if(ram > 0)\u001b[0m\n\u001b[1;37m               ^\u001b[0m\n\u001b[1;31mSyntaxError\u001b[0m\u001b[1;31m:\u001b[0m expected ':'\n"
     ]
    }
   ],
   "source": [
    "ram = 10\n",
    "if(ram > 0)\n",
    "\n"
   ]
  },
  {
   "cell_type": "code",
   "execution_count": 3,
   "id": "68626b87",
   "metadata": {},
   "outputs": [
    {
     "ename": "SyntaxError",
     "evalue": "expected ':' (4283011682.py, line 1)",
     "output_type": "error",
     "traceback": [
      "\u001b[1;36m  Cell \u001b[1;32mIn[3], line 1\u001b[1;36m\u001b[0m\n\u001b[1;33m    if ()\u001b[0m\n\u001b[1;37m         ^\u001b[0m\n\u001b[1;31mSyntaxError\u001b[0m\u001b[1;31m:\u001b[0m expected ':'\n"
     ]
    }
   ],
   "source": [
    "if ()"
   ]
  },
  {
   "cell_type": "code",
   "execution_count": 4,
   "id": "e206e798",
   "metadata": {},
   "outputs": [
    {
     "ename": "SyntaxError",
     "evalue": "invalid syntax (1313509873.py, line 2)",
     "output_type": "error",
     "traceback": [
      "\u001b[1;36m  Cell \u001b[1;32mIn[4], line 2\u001b[1;36m\u001b[0m\n\u001b[1;33m    iff a > 5:\u001b[0m\n\u001b[1;37m        ^\u001b[0m\n\u001b[1;31mSyntaxError\u001b[0m\u001b[1;31m:\u001b[0m invalid syntax\n"
     ]
    }
   ],
   "source": [
    "a = 10\n",
    "iff a > 5:\n",
    "    print(\"a is greater than 5\")"
   ]
  },
  {
   "cell_type": "markdown",
   "id": "fabf80df",
   "metadata": {},
   "source": [
    "#### 2.indentation error\n"
   ]
  },
  {
   "cell_type": "code",
   "execution_count": null,
   "id": "59d7cebf",
   "metadata": {},
   "outputs": [
    {
     "ename": "IndentationError",
     "evalue": "expected an indented block after 'if' statement on line 2 (2833828640.py, line 3)",
     "output_type": "error",
     "traceback": [
      "\u001b[1;36m  Cell \u001b[1;32mIn[5], line 3\u001b[1;36m\u001b[0m\n\u001b[1;33m    print(\"a is greater than 5\")\u001b[0m\n\u001b[1;37m    ^\u001b[0m\n\u001b[1;31mIndentationError\u001b[0m\u001b[1;31m:\u001b[0m expected an indented block after 'if' statement on line 2\n"
     ]
    }
   ],
   "source": [
    "# indentation error - incorrect indentation\n",
    "a = 10\n",
    "if a > 5:\n",
    "print(\"a is greater than 5\")"
   ]
  },
  {
   "cell_type": "markdown",
   "id": "52487424",
   "metadata": {},
   "source": [
    "#### 3.Index error\n"
   ]
  },
  {
   "cell_type": "code",
   "execution_count": 7,
   "id": "46e6b245",
   "metadata": {},
   "outputs": [
    {
     "ename": "IndexError",
     "evalue": "list index out of range",
     "output_type": "error",
     "traceback": [
      "\u001b[1;31m---------------------------------------------------------------------------\u001b[0m",
      "\u001b[1;31mIndexError\u001b[0m                                Traceback (most recent call last)",
      "Cell \u001b[1;32mIn[7], line 2\u001b[0m\n\u001b[0;32m      1\u001b[0m l \u001b[38;5;241m=\u001b[39m [\u001b[38;5;241m1\u001b[39m, \u001b[38;5;241m2\u001b[39m, \u001b[38;5;241m3\u001b[39m, \u001b[38;5;241m4\u001b[39m, \u001b[38;5;241m5\u001b[39m]\u001b[38;5;66;03m# index error - accessing an index that does not exist\u001b[39;00m\n\u001b[1;32m----> 2\u001b[0m l[\u001b[38;5;241m100\u001b[39m]\n",
      "\u001b[1;31mIndexError\u001b[0m: list index out of range"
     ]
    }
   ],
   "source": [
    "l = [1, 2, 3, 4, 5]# index error - accessing an index that does not exist\n",
    "l[100] "
   ]
  },
  {
   "cell_type": "markdown",
   "id": "ee11831e",
   "metadata": {},
   "source": [
    "#### 4.Module not found error\n"
   ]
  },
  {
   "cell_type": "code",
   "execution_count": 10,
   "id": "c1ce0a79",
   "metadata": {},
   "outputs": [
    {
     "ename": "ModuleNotFoundError",
     "evalue": "No module named 'mathi'",
     "output_type": "error",
     "traceback": [
      "\u001b[1;31m---------------------------------------------------------------------------\u001b[0m",
      "\u001b[1;31mModuleNotFoundError\u001b[0m                       Traceback (most recent call last)",
      "Cell \u001b[1;32mIn[10], line 1\u001b[0m\n\u001b[1;32m----> 1\u001b[0m \u001b[38;5;28;01mimport\u001b[39;00m \u001b[38;5;21;01mmathi\u001b[39;00m\n",
      "\u001b[1;31mModuleNotFoundError\u001b[0m: No module named 'mathi'"
     ]
    }
   ],
   "source": [
    "import mathi\n"
   ]
  },
  {
   "cell_type": "markdown",
   "id": "32414326",
   "metadata": {},
   "source": [
    "##### 5.key error\n"
   ]
  },
  {
   "cell_type": "code",
   "execution_count": 12,
   "id": "e247a520",
   "metadata": {},
   "outputs": [
    {
     "ename": "KeyError",
     "evalue": "'city'",
     "output_type": "error",
     "traceback": [
      "\u001b[1;31m---------------------------------------------------------------------------\u001b[0m",
      "\u001b[1;31mKeyError\u001b[0m                                  Traceback (most recent call last)",
      "Cell \u001b[1;32mIn[12], line 2\u001b[0m\n\u001b[0;32m      1\u001b[0m d \u001b[38;5;241m=\u001b[39m {\u001b[38;5;124m\"\u001b[39m\u001b[38;5;124mname\u001b[39m\u001b[38;5;124m\"\u001b[39m: \u001b[38;5;124m\"\u001b[39m\u001b[38;5;124mAlice\u001b[39m\u001b[38;5;124m\"\u001b[39m, \u001b[38;5;124m\"\u001b[39m\u001b[38;5;124mage\u001b[39m\u001b[38;5;124m\"\u001b[39m: \u001b[38;5;241m30\u001b[39m}\u001b[38;5;66;03m# key error - accessing a key that does not exist\u001b[39;00m\n\u001b[1;32m----> 2\u001b[0m d[\u001b[38;5;124m'\u001b[39m\u001b[38;5;124mcity\u001b[39m\u001b[38;5;124m'\u001b[39m]\n",
      "\u001b[1;31mKeyError\u001b[0m: 'city'"
     ]
    }
   ],
   "source": [
    "d = {\"name\": \"Alice\", \"age\": 30}# key error - accessing a key that does not exist\n",
    "d['city']"
   ]
  },
  {
   "cell_type": "markdown",
   "id": "d7691af8",
   "metadata": {},
   "source": [
    "##### 6.Type error\n"
   ]
  },
  {
   "cell_type": "code",
   "execution_count": null,
   "id": "a845ceb9",
   "metadata": {},
   "outputs": [
    {
     "ename": "TypeError",
     "evalue": "can only concatenate list (not \"str\") to list",
     "output_type": "error",
     "traceback": [
      "\u001b[1;31m---------------------------------------------------------------------------\u001b[0m",
      "\u001b[1;31mTypeError\u001b[0m                                 Traceback (most recent call last)",
      "Cell \u001b[1;32mIn[14], line 3\u001b[0m\n\u001b[0;32m      1\u001b[0m L \u001b[38;5;241m=\u001b[39m [\u001b[38;5;241m1\u001b[39m, \u001b[38;5;241m2\u001b[39m, \u001b[38;5;241m3\u001b[39m, \u001b[38;5;241m4\u001b[39m, \u001b[38;5;241m5\u001b[39m]\u001b[38;5;66;03m# type error - performing an operation on incompatible types\u001b[39;00m\n\u001b[1;32m----> 3\u001b[0m L \u001b[38;5;241m+\u001b[39m \u001b[38;5;124m\"\u001b[39m\u001b[38;5;124mstring\u001b[39m\u001b[38;5;124m\"\u001b[39m\n",
      "\u001b[1;31mTypeError\u001b[0m: can only concatenate list (not \"str\") to list"
     ]
    }
   ],
   "source": [
    "\n",
    "L = [1, 2, 3, 4, 5]# type error - performing an operation on incompatible types\n",
    "L + \"string\"\n"
   ]
  },
  {
   "cell_type": "markdown",
   "id": "39cd9334",
   "metadata": {},
   "source": [
    "#### 7.value error\n"
   ]
  },
  {
   "cell_type": "code",
   "execution_count": 13,
   "id": "d00cf7b8",
   "metadata": {},
   "outputs": [
    {
     "ename": "ValueError",
     "evalue": "invalid literal for int() with base 10: 'a'",
     "output_type": "error",
     "traceback": [
      "\u001b[1;31m---------------------------------------------------------------------------\u001b[0m",
      "\u001b[1;31mValueError\u001b[0m                                Traceback (most recent call last)",
      "Cell \u001b[1;32mIn[13], line 1\u001b[0m\n\u001b[1;32m----> 1\u001b[0m \u001b[38;5;28mint\u001b[39m(\u001b[38;5;124m'\u001b[39m\u001b[38;5;124ma\u001b[39m\u001b[38;5;124m'\u001b[39m)\n",
      "\u001b[1;31mValueError\u001b[0m: invalid literal for int() with base 10: 'a'"
     ]
    }
   ],
   "source": [
    "int('a')"
   ]
  },
  {
   "cell_type": "markdown",
   "id": "76f032b3",
   "metadata": {},
   "source": [
    "#### 8.Nme Error\n"
   ]
  },
  {
   "cell_type": "code",
   "execution_count": 15,
   "id": "bf42e016",
   "metadata": {},
   "outputs": [
    {
     "ename": "NameError",
     "evalue": "name 'k' is not defined",
     "output_type": "error",
     "traceback": [
      "\u001b[1;31m---------------------------------------------------------------------------\u001b[0m",
      "\u001b[1;31mNameError\u001b[0m                                 Traceback (most recent call last)",
      "Cell \u001b[1;32mIn[15], line 1\u001b[0m\n\u001b[1;32m----> 1\u001b[0m \u001b[38;5;28mprint\u001b[39m(k)\n",
      "\u001b[1;31mNameError\u001b[0m: name 'k' is not defined"
     ]
    }
   ],
   "source": [
    "print(k)"
   ]
  },
  {
   "cell_type": "markdown",
   "id": "5fec1d38",
   "metadata": {},
   "source": [
    "#### 9.attribute error\n"
   ]
  },
  {
   "cell_type": "code",
   "execution_count": 16,
   "id": "4a8f8b47",
   "metadata": {},
   "outputs": [
    {
     "ename": "AttributeError",
     "evalue": "'list' object has no attribute 'upper'",
     "output_type": "error",
     "traceback": [
      "\u001b[1;31m---------------------------------------------------------------------------\u001b[0m",
      "\u001b[1;31mAttributeError\u001b[0m                            Traceback (most recent call last)",
      "Cell \u001b[1;32mIn[16], line 2\u001b[0m\n\u001b[0;32m      1\u001b[0m L \u001b[38;5;241m=\u001b[39m [\u001b[38;5;241m1\u001b[39m, \u001b[38;5;241m2\u001b[39m, \u001b[38;5;241m3\u001b[39m, \u001b[38;5;241m4\u001b[39m, \u001b[38;5;241m5\u001b[39m]\u001b[38;5;66;03m# type error - performing an operation on incompatible types\u001b[39;00m\n\u001b[1;32m----> 2\u001b[0m l\u001b[38;5;241m.\u001b[39mupper()\n",
      "\u001b[1;31mAttributeError\u001b[0m: 'list' object has no attribute 'upper'"
     ]
    }
   ],
   "source": [
    "L = [1, 2, 3, 4, 5]# type error - performing an operation on incompatible types\n",
    "l.upper()\n"
   ]
  },
  {
   "cell_type": "markdown",
   "id": "83c46092",
   "metadata": {},
   "source": [
    "# Exceptions - during runtime\n"
   ]
  },
  {
   "cell_type": "code",
   "execution_count": 19,
   "id": "886c2102",
   "metadata": {},
   "outputs": [],
   "source": [
    "with open('file.txt', 'w') as f:\n",
    "    f.write(\"Hello, World!\")  # IOError - trying to write to a file opened in read mode"
   ]
  },
  {
   "cell_type": "code",
   "execution_count": null,
   "id": "7b621259",
   "metadata": {},
   "outputs": [
    {
     "name": "stdout",
     "output_type": "stream",
     "text": [
      "Hello, World!\n"
     ]
    }
   ],
   "source": [
    "try:\n",
    "    with open('file.txt', 'r') as f:\n",
    "        content = f.read() \n",
    "        print(content)  \n",
    "except:\n",
    "    print(\"sorry file not found\")\n"
   ]
  },
  {
   "cell_type": "code",
   "execution_count": 48,
   "id": "11fdc2ad",
   "metadata": {},
   "outputs": [
    {
     "name": "stdout",
     "output_type": "stream",
     "text": [
      "Hello, World!\n",
      "Variable 'm' is not defined.\n"
     ]
    }
   ],
   "source": [
    "\n",
    "try:\n",
    "    f = open('file.txt', 'r')\n",
    "    print(f.read())  \n",
    "    print(m)\n",
    "    print(10 / 0) \n",
    "    l = [1, 2, 3]\n",
    "    print(l[10])\n",
    "except FileNotFoundError:\n",
    "    print(\"File not found. Please check the file path.\")\n",
    "except NameError:\n",
    "    print(\"Variable 'm' is not defined.\")\n",
    "except ZeroDivisionError:\n",
    "    print(\"Division by zero error.\")\n",
    "except Exception as e:\n",
    "    print(e)\n",
    "\n",
    "    "
   ]
  },
  {
   "cell_type": "code",
   "execution_count": 52,
   "id": "fc721b50",
   "metadata": {},
   "outputs": [
    {
     "name": "stdout",
     "output_type": "stream",
     "text": [
      "File opened successfully.\n",
      "Hello, World!\n"
     ]
    }
   ],
   "source": [
    "try:\n",
    "    f = open('file.txt', 'r') \n",
    "except FileNotFoundError:\n",
    "    print(\"File not found. Please check the file path.\")\n",
    "except exception as e:\n",
    "    print(f\"An error occurred: {e}\")\n",
    "else:\n",
    "    print(\"File opened successfully.\")\n",
    "    content = f.read()\n",
    "    print(content)"
   ]
  },
  {
   "cell_type": "code",
   "execution_count": 54,
   "id": "1640736c",
   "metadata": {},
   "outputs": [
    {
     "name": "stdout",
     "output_type": "stream",
     "text": [
      "File opened successfully.\n",
      "Hello, World!\n",
      "This block always executes, regardless of whether an exception occurred or not.\n"
     ]
    }
   ],
   "source": [
    "try:\n",
    "    f = open('file.txt', 'r') \n",
    "except FileNotFoundError:\n",
    "    print(\"File not found. Please check the file path.\")\n",
    "except exception as e:\n",
    "    print(f\"An error occurred: {e}\")\n",
    "else:\n",
    "    print(\"File opened successfully.\")\n",
    "    content = f.read()\n",
    "    print(content)\n",
    "finally:\n",
    "    print(\"This block always executes, regardless of whether an exception occurred or not.\")\n",
    "    f.close()"
   ]
  },
  {
   "cell_type": "markdown",
   "id": "f5e37d82",
   "metadata": {},
   "source": [
    "### Raise exception\n"
   ]
  },
  {
   "cell_type": "code",
   "execution_count": 55,
   "id": "1556aa98",
   "metadata": {},
   "outputs": [
    {
     "ename": "NameError",
     "evalue": "This is a custom error message for NameError.",
     "output_type": "error",
     "traceback": [
      "\u001b[1;31m---------------------------------------------------------------------------\u001b[0m",
      "\u001b[1;31mNameError\u001b[0m                                 Traceback (most recent call last)",
      "Cell \u001b[1;32mIn[55], line 1\u001b[0m\n\u001b[1;32m----> 1\u001b[0m \u001b[38;5;28;01mraise\u001b[39;00m \u001b[38;5;167;01mNameError\u001b[39;00m(\u001b[38;5;124m\"\u001b[39m\u001b[38;5;124mThis is a custom error message for NameError.\u001b[39m\u001b[38;5;124m\"\u001b[39m)\n",
      "\u001b[1;31mNameError\u001b[0m: This is a custom error message for NameError."
     ]
    }
   ],
   "source": [
    "raise NameError(\"This is a custom error message for NameError.\")"
   ]
  },
  {
   "cell_type": "code",
   "execution_count": 57,
   "id": "9419f63d",
   "metadata": {},
   "outputs": [
    {
     "ename": "ValueError",
     "evalue": "This is a custom Valueerror message.",
     "output_type": "error",
     "traceback": [
      "\u001b[1;31m---------------------------------------------------------------------------\u001b[0m",
      "\u001b[1;31mValueError\u001b[0m                                Traceback (most recent call last)",
      "Cell \u001b[1;32mIn[57], line 1\u001b[0m\n\u001b[1;32m----> 1\u001b[0m \u001b[38;5;28;01mraise\u001b[39;00m \u001b[38;5;167;01mValueError\u001b[39;00m(\u001b[38;5;124m\"\u001b[39m\u001b[38;5;124mThis is a custom Valueerror message.\u001b[39m\u001b[38;5;124m\"\u001b[39m)\n\u001b[0;32m      2\u001b[0m \u001b[38;5;28;01mdef\u001b[39;00m \u001b[38;5;21mdivide\u001b[39m(a, b):\n\u001b[0;32m      3\u001b[0m     \u001b[38;5;28;01mif\u001b[39;00m b \u001b[38;5;241m==\u001b[39m \u001b[38;5;241m0\u001b[39m:\n",
      "\u001b[1;31mValueError\u001b[0m: This is a custom Valueerror message."
     ]
    }
   ],
   "source": [
    "raise ValueError(\"This is a custom Valueerror message.\")\n",
    "def divide(a, b):\n",
    "    if b == 0:\n",
    "        raise ZeroDivisionError(\"You cannot divide by zero.\")\n",
    "    return a / b"
   ]
  },
  {
   "cell_type": "code",
   "execution_count": 69,
   "id": "5da76236",
   "metadata": {},
   "outputs": [
    {
     "name": "stdout",
     "output_type": "stream",
     "text": [
      "Error: Insufficient funds for withdrawal.\n"
     ]
    }
   ],
   "source": [
    "class Bank:\n",
    "    def __init__(self, balance):\n",
    "        self.balance = balance\n",
    "    \n",
    "    def withdraw(self, amount):\n",
    "        if amount > self.balance:\n",
    "            raise ValueError(\"Insufficient funds for withdrawal.\")\n",
    "        self.balance -= amount\n",
    "        return self.balance\n",
    "obj = Bank(10000)  \n",
    "try:\n",
    "    obj.withdraw(15000)  # This will raise a ValueError \n",
    "except ValueError as e:\n",
    "    print(f\"Error: {e}\") \n",
    "else:\n",
    "    print(\"Withdrawal successful. Remaining balance:\", obj.balance)"
   ]
  },
  {
   "cell_type": "code",
   "execution_count": 70,
   "id": "2ef7f20f",
   "metadata": {},
   "outputs": [],
   "source": [
    "## creating customs exceptions\n",
    "class CustomError(Exception):\n",
    "    \"\"\"Base class for custom exceptions\"\"\"\n",
    "    pass"
   ]
  },
  {
   "cell_type": "code",
   "execution_count": 72,
   "id": "06bdd4ff",
   "metadata": {},
   "outputs": [
    {
     "name": "stdout",
     "output_type": "stream",
     "text": [
      "Custom Error: This is a custom error message.\n"
     ]
    }
   ],
   "source": [
    "class CustomError(Exception):\n",
    "    def __init__(self, message):\n",
    "        super().__init__(message)\n",
    "    \n",
    "\n",
    "class Bank:\n",
    "    def __init__(self, balance):\n",
    "        self.balance = balance\n",
    "    \n",
    "    def withdraw(self, amount):\n",
    "        if amount > self.balance:\n",
    "            raise ValueError(\"Insufficient funds for withdrawal.\")\n",
    "        self.balance -= amount\n",
    "        return self.balance\n",
    "obj = Bank(10000)  \n",
    "try:\n",
    "    obj.withdraw(1500)  # This will raise a ValueError\n",
    "    raise CustomError(\"This is a custom error message.\") \n",
    "except ValueError as e:\n",
    "    print(f\"Error: {e}\") \n",
    "except CustomError as e:\n",
    "    print(f\"Custom Error: {e}\")"
   ]
  },
  {
   "cell_type": "code",
   "execution_count": null,
   "id": "a0fc7459",
   "metadata": {},
   "outputs": [
    {
     "name": "stdout",
     "output_type": "stream",
     "text": [
      "Login successful.\n",
      "John Doe\n",
      "welcome to google\n"
     ]
    }
   ],
   "source": [
    "class securityerror(Exception):\n",
    "    def __init__(self, message):\n",
    "        pritn(message)\n",
    "        \n",
    "    def logout(self):\n",
    "        print(\"Logging  out  from all devicedue to security error.\")\n",
    "\n",
    "class Google:\n",
    "    def __init__(self, name, email, password, device):\n",
    "        self.name = name\n",
    "        self.email = email\n",
    "        self.password = password\n",
    "        self.device = device\n",
    "        \n",
    "    def login(self,email,password,device):\n",
    "        if device!= self.device:\n",
    "            raise securityerror(\"Device not recognized.\")\n",
    "        if email == self.email or password == self.password:\n",
    "            print(\"Login successful\")\n",
    "        else:print(\"Login failed. Please check your credentials.\")\n",
    "try:\n",
    "    obj = Google(\"John Doe\", \"nitesh@gmail.com\", \"password123\", \"wndows\")\n",
    "except securityerror as e:\n",
    "    e.logout()\n",
    "    print(f\"Security Error: {e}\")\n",
    "else:\n",
    "    print(\"Login successful.\")\n",
    "    print(obj.name)\n",
    "finally:\n",
    "    print(\"welcome to google\")\n"
   ]
  },
  {
   "cell_type": "code",
   "execution_count": null,
   "id": "b6bfcf3e",
   "metadata": {},
   "outputs": [],
   "source": []
  },
  {
   "cell_type": "code",
   "execution_count": null,
   "id": "2bbb9bdd",
   "metadata": {},
   "outputs": [],
   "source": []
  },
  {
   "cell_type": "code",
   "execution_count": null,
   "id": "b7e5c544",
   "metadata": {},
   "outputs": [],
   "source": []
  },
  {
   "cell_type": "code",
   "execution_count": null,
   "id": "01e9a629",
   "metadata": {},
   "outputs": [],
   "source": []
  },
  {
   "cell_type": "code",
   "execution_count": null,
   "id": "447e6bb7",
   "metadata": {},
   "outputs": [],
   "source": []
  },
  {
   "cell_type": "code",
   "execution_count": null,
   "id": "1b2a0a4d",
   "metadata": {},
   "outputs": [],
   "source": []
  }
 ],
 "metadata": {
  "kernelspec": {
   "display_name": "base",
   "language": "python",
   "name": "python3"
  },
  "language_info": {
   "codemirror_mode": {
    "name": "ipython",
    "version": 3
   },
   "file_extension": ".py",
   "mimetype": "text/x-python",
   "name": "python",
   "nbconvert_exporter": "python",
   "pygments_lexer": "ipython3",
   "version": "3.12.7"
  }
 },
 "nbformat": 4,
 "nbformat_minor": 5
}
