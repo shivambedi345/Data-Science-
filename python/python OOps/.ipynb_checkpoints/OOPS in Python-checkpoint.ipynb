{
 "cells": [
  {
   "cell_type": "code",
   "execution_count": null,
   "id": "0b92ff59-acfb-46b8-a920-8bfc759b81a8",
   "metadata": {},
   "outputs": [],
   "source": [
    "Sellers\n"
   ]
  },
  {
   "cell_type": "code",
   "execution_count": null,
   "id": "de319875-d35a-4765-a06a-8ecd7b9aa0ad",
   "metadata": {},
   "outputs": [],
   "source": [
    "seller1Name = \"A\"\n",
    "seller1Address = \"ABC\"\n",
    "seller1Money = 123"
   ]
  },
  {
   "cell_type": "code",
   "execution_count": null,
   "id": "fbd90b28-b188-443a-b272-051ca3a4ffba",
   "metadata": {},
   "outputs": [],
   "source": [
    "seller2Name = \"B\"\n",
    "seller2Address = \"DEF\"\n",
    "seller2Money = 456"
   ]
  },
  {
   "cell_type": "code",
   "execution_count": null,
   "id": "b49c3cac-a6a9-43c7-bab3-5dc6afdfe6e9",
   "metadata": {},
   "outputs": [],
   "source": [
    "seller3Name = \"C\"\n",
    "seller3Address = \"GFH\"\n",
    "seller3Money = "
   ]
  },
  {
   "cell_type": "code",
   "execution_count": 3,
   "id": "53213f48-fa17-4aad-ab06-37024fdd4bf0",
   "metadata": {},
   "outputs": [],
   "source": [
    "sellerName = [\"A\",\"B\", \"D\"]"
   ]
  },
  {
   "cell_type": "code",
   "execution_count": 5,
   "id": "69aec9e4-9459-4f66-b1f5-0b3e685d9d26",
   "metadata": {},
   "outputs": [
    {
     "data": {
      "text/plain": [
       "'D'"
      ]
     },
     "execution_count": 5,
     "metadata": {},
     "output_type": "execute_result"
    }
   ],
   "source": [
    "sellerName[2]"
   ]
  },
  {
   "cell_type": "code",
   "execution_count": 7,
   "id": "33d0fc24-34e9-4b91-8de6-f64bdd1e4058",
   "metadata": {},
   "outputs": [
    {
     "ename": "NameError",
     "evalue": "name 'seller1' is not defined",
     "output_type": "error",
     "traceback": [
      "\u001b[0;31m---------------------------------------------------------------------------\u001b[0m",
      "\u001b[0;31mNameError\u001b[0m                                 Traceback (most recent call last)",
      "Cell \u001b[0;32mIn[7], line 1\u001b[0m\n\u001b[0;32m----> 1\u001b[0m seller1\u001b[38;5;241m.\u001b[39mName\n\u001b[1;32m      2\u001b[0m seller1\u001b[38;5;241m.\u001b[39mAddress\n",
      "\u001b[0;31mNameError\u001b[0m: name 'seller1' is not defined"
     ]
    }
   ],
   "source": [
    "seller1.Name\n",
    "seller1.Address"
   ]
  },
  {
   "cell_type": "code",
   "execution_count": null,
   "id": "f77da025-0508-4ca8-9d18-7d5ad671547c",
   "metadata": {},
   "outputs": [],
   "source": []
  },
  {
   "cell_type": "code",
   "execution_count": null,
   "id": "e0655cb8-37a2-47da-a38b-f19a58a2a91a",
   "metadata": {},
   "outputs": [],
   "source": []
  },
  {
   "cell_type": "code",
   "execution_count": null,
   "id": "35a8bd7b-73fb-40f2-8d64-634eabbc1b9e",
   "metadata": {},
   "outputs": [],
   "source": []
  },
  {
   "cell_type": "code",
   "execution_count": null,
   "id": "378c08cf-ddf5-4d88-9354-55e6de085d1f",
   "metadata": {},
   "outputs": [],
   "source": []
  },
  {
   "cell_type": "code",
   "execution_count": 10,
   "id": "84eafd0a-72dc-4764-97b7-c10669ad6878",
   "metadata": {},
   "outputs": [],
   "source": [
    "a = 5"
   ]
  },
  {
   "cell_type": "code",
   "execution_count": 14,
   "id": "f67d7ad4-9beb-498d-aa67-68c80e86ced7",
   "metadata": {},
   "outputs": [
    {
     "name": "stdout",
     "output_type": "stream",
     "text": [
      "<class 'int'>\n"
     ]
    }
   ],
   "source": [
    "print(type(a))"
   ]
  },
  {
   "cell_type": "code",
   "execution_count": 16,
   "id": "2ce8a4de-1c31-4f19-b98d-fcd6261beba0",
   "metadata": {},
   "outputs": [
    {
     "name": "stdout",
     "output_type": "stream",
     "text": [
      "<class 'float'>\n"
     ]
    }
   ],
   "source": [
    "b = 5.5 \n",
    "print(type(b))"
   ]
  },
  {
   "cell_type": "code",
   "execution_count": 22,
   "id": "05ccab0d-2fe5-4498-b165-55338d1a76ab",
   "metadata": {},
   "outputs": [
    {
     "name": "stdout",
     "output_type": "stream",
     "text": [
      "<class 'str'>\n"
     ]
    }
   ],
   "source": [
    "s1 = \"Mayank\"\n",
    "print(type(s1))"
   ]
  },
  {
   "cell_type": "code",
   "execution_count": 28,
   "id": "808632b1-f7d4-45ed-b071-8001e806173a",
   "metadata": {},
   "outputs": [
    {
     "data": {
      "text/plain": [
       "'MAYANK'"
      ]
     },
     "execution_count": 28,
     "metadata": {},
     "output_type": "execute_result"
    }
   ],
   "source": [
    "s1.upper()"
   ]
  },
  {
   "cell_type": "code",
   "execution_count": 32,
   "id": "fa283132-40a2-49b4-a358-dc467e1580d8",
   "metadata": {},
   "outputs": [],
   "source": [
    "l1 = [1,2,3,4]"
   ]
  },
  {
   "cell_type": "code",
   "execution_count": 36,
   "id": "7930f2c2-4f50-46b0-91f9-ce3df80ffe36",
   "metadata": {},
   "outputs": [],
   "source": [
    "l1.append(4)"
   ]
  },
  {
   "cell_type": "code",
   "execution_count": 40,
   "id": "cabf1224-2680-4cd0-b6ca-29c71674006a",
   "metadata": {},
   "outputs": [],
   "source": [
    "c = 4+5j"
   ]
  },
  {
   "cell_type": "code",
   "execution_count": 42,
   "id": "a5168322-2ae0-4b2e-b33f-eae0399677e2",
   "metadata": {},
   "outputs": [
    {
     "data": {
      "text/plain": [
       "4.0"
      ]
     },
     "execution_count": 42,
     "metadata": {},
     "output_type": "execute_result"
    }
   ],
   "source": [
    "c.real"
   ]
  },
  {
   "cell_type": "code",
   "execution_count": 46,
   "id": "463582f7-16fa-41ba-af01-38b807419ef1",
   "metadata": {},
   "outputs": [
    {
     "data": {
      "text/plain": [
       "5.0"
      ]
     },
     "execution_count": 46,
     "metadata": {},
     "output_type": "execute_result"
    }
   ],
   "source": [
    "c.imag"
   ]
  },
  {
   "cell_type": "code",
   "execution_count": null,
   "id": "b2e51b56-480b-455e-b34c-bd2dc83f085e",
   "metadata": {},
   "outputs": [],
   "source": []
  },
  {
   "cell_type": "code",
   "execution_count": null,
   "id": "a6fa6462-4193-4da7-8689-151b6c8d1150",
   "metadata": {},
   "outputs": [],
   "source": []
  },
  {
   "cell_type": "code",
   "execution_count": null,
   "id": "76a96f73-d23e-42e5-a83c-e113bd585b9b",
   "metadata": {},
   "outputs": [],
   "source": []
  },
  {
   "cell_type": "markdown",
   "id": "51ab16d4-e366-4c62-b0ec-907729ac5394",
   "metadata": {},
   "source": [
    "# Creating our Own Class"
   ]
  },
  {
   "cell_type": "code",
   "execution_count": 54,
   "id": "4e75c08d-8661-4850-ab6e-25116d4fa80c",
   "metadata": {},
   "outputs": [],
   "source": [
    "class Car:\n",
    "    pass"
   ]
  },
  {
   "cell_type": "code",
   "execution_count": 58,
   "id": "a7677649-68f2-4ef5-ba1a-0b840b320b7a",
   "metadata": {},
   "outputs": [
    {
     "data": {
      "text/plain": [
       "__main__.Car"
      ]
     },
     "execution_count": 58,
     "metadata": {},
     "output_type": "execute_result"
    }
   ],
   "source": [
    "Car"
   ]
  },
  {
   "cell_type": "code",
   "execution_count": 62,
   "id": "3d2a20c4-c9fe-42e6-bac0-577f57826618",
   "metadata": {},
   "outputs": [
    {
     "data": {
      "text/plain": [
       "int"
      ]
     },
     "execution_count": 62,
     "metadata": {},
     "output_type": "execute_result"
    }
   ],
   "source": [
    "int"
   ]
  },
  {
   "cell_type": "code",
   "execution_count": null,
   "id": "4ec7396c-1c01-4220-99f7-7ab698170230",
   "metadata": {},
   "outputs": [],
   "source": []
  },
  {
   "cell_type": "code",
   "execution_count": null,
   "id": "876b4bf4-3c99-4b58-943d-ce4cd7fec6ff",
   "metadata": {},
   "outputs": [],
   "source": []
  },
  {
   "cell_type": "markdown",
   "id": "41825d84-cdd4-405a-afa7-39a1dc114c94",
   "metadata": {},
   "source": [
    "# Object"
   ]
  },
  {
   "cell_type": "markdown",
   "id": "14771ec1-9be3-491c-9cee-a6fd186fbb1a",
   "metadata": {},
   "source": [
    "### Everything in Python is an object"
   ]
  },
  {
   "cell_type": "code",
   "execution_count": 71,
   "id": "17a3b180-5e4d-4622-b143-6895f8619cab",
   "metadata": {},
   "outputs": [],
   "source": [
    "c1 = 3+6j\n",
    "c2 = 7+5j"
   ]
  },
  {
   "cell_type": "code",
   "execution_count": 73,
   "id": "1f2ec031-5dac-4eb1-8182-d880035531f4",
   "metadata": {},
   "outputs": [
    {
     "name": "stdout",
     "output_type": "stream",
     "text": [
      "<class 'complex'> <class 'complex'>\n"
     ]
    }
   ],
   "source": [
    "print(type(c1), type(c2))"
   ]
  },
  {
   "cell_type": "code",
   "execution_count": 83,
   "id": "210e902b-806a-4841-880f-19e2ed5dcb74",
   "metadata": {},
   "outputs": [
    {
     "ename": "AttributeError",
     "evalue": "'str' object has no attribute 'append'",
     "output_type": "error",
     "traceback": [
      "\u001b[0;31m---------------------------------------------------------------------------\u001b[0m",
      "\u001b[0;31mAttributeError\u001b[0m                            Traceback (most recent call last)",
      "Cell \u001b[0;32mIn[83], line 1\u001b[0m\n\u001b[0;32m----> 1\u001b[0m s1\u001b[38;5;241m.\u001b[39mappend(\u001b[38;5;124m'\u001b[39m\u001b[38;5;124mabc\u001b[39m\u001b[38;5;124m'\u001b[39m)\n",
      "\u001b[0;31mAttributeError\u001b[0m: 'str' object has no attribute 'append'"
     ]
    }
   ],
   "source": [
    "s1.append('abc')"
   ]
  },
  {
   "cell_type": "code",
   "execution_count": 87,
   "id": "772e48ca-4d77-4535-a5bc-661c4fc0ed96",
   "metadata": {},
   "outputs": [],
   "source": [
    "def sum(a,b):\n",
    "    pass"
   ]
  },
  {
   "cell_type": "code",
   "execution_count": 92,
   "id": "c7ef6773-7be6-44d4-91db-02f0f4a4159e",
   "metadata": {},
   "outputs": [
    {
     "name": "stdout",
     "output_type": "stream",
     "text": [
      "<class 'function'>\n"
     ]
    }
   ],
   "source": [
    "print(type(sum))"
   ]
  },
  {
   "cell_type": "code",
   "execution_count": null,
   "id": "e5a4aee9-0e65-455b-82be-b41688679a18",
   "metadata": {},
   "outputs": [],
   "source": []
  },
  {
   "cell_type": "code",
   "execution_count": null,
   "id": "f50a5464-aa50-47bc-92df-2ab30995c8ef",
   "metadata": {},
   "outputs": [],
   "source": []
  },
  {
   "cell_type": "code",
   "execution_count": 105,
   "id": "2135bfa1-80a7-4677-a143-185f3a269e28",
   "metadata": {},
   "outputs": [
    {
     "name": "stdout",
     "output_type": "stream",
     "text": [
      "<class 'int'>\n"
     ]
    }
   ],
   "source": [
    "print(type(a))"
   ]
  },
  {
   "cell_type": "code",
   "execution_count": 97,
   "id": "3c913fdc-4acd-484c-ba3a-2a6ffc4571df",
   "metadata": {},
   "outputs": [],
   "source": [
    "class Car:\n",
    "    pass"
   ]
  },
  {
   "cell_type": "code",
   "execution_count": 101,
   "id": "de83a00c-e642-47f1-9755-f5b8ce814120",
   "metadata": {},
   "outputs": [],
   "source": [
    "swift = Car()"
   ]
  },
  {
   "cell_type": "code",
   "execution_count": 107,
   "id": "1b590b5b-d3cc-4d6b-99d8-83bd0f0c7e3b",
   "metadata": {},
   "outputs": [
    {
     "name": "stdout",
     "output_type": "stream",
     "text": [
      "<class '__main__.Car'>\n"
     ]
    }
   ],
   "source": [
    "print(type(swift))"
   ]
  },
  {
   "cell_type": "code",
   "execution_count": 113,
   "id": "bbe89a14-ee46-4e19-8f4a-067736a42a22",
   "metadata": {},
   "outputs": [
    {
     "name": "stdout",
     "output_type": "stream",
     "text": [
      "<class 'int'>\n"
     ]
    }
   ],
   "source": [
    "a = 5\n",
    "print(type(a))"
   ]
  },
  {
   "cell_type": "code",
   "execution_count": null,
   "id": "42a83757-4905-4e6a-aae8-09ea544f3591",
   "metadata": {},
   "outputs": [],
   "source": [
    "l1 = [] \n",
    "t1 = ()"
   ]
  },
  {
   "cell_type": "code",
   "execution_count": 115,
   "id": "944c1bf9-79a8-47ef-91a4-c8171ddbb185",
   "metadata": {},
   "outputs": [
    {
     "data": {
      "text/plain": [
       "0"
      ]
     },
     "execution_count": 115,
     "metadata": {},
     "output_type": "execute_result"
    }
   ],
   "source": [
    "a1 = int()\n",
    "a1"
   ]
  },
  {
   "cell_type": "code",
   "execution_count": 119,
   "id": "fb813618-57ed-49bf-819c-921ccd587e3d",
   "metadata": {},
   "outputs": [
    {
     "name": "stdout",
     "output_type": "stream",
     "text": [
      "<class 'int'>\n"
     ]
    }
   ],
   "source": [
    "print(type(a1))"
   ]
  },
  {
   "cell_type": "code",
   "execution_count": null,
   "id": "1e8c40df-0f7a-4d81-81d1-92879e2ea275",
   "metadata": {},
   "outputs": [],
   "source": []
  },
  {
   "cell_type": "code",
   "execution_count": null,
   "id": "cff1ea92-2901-4aa6-842a-df6b04c780db",
   "metadata": {},
   "outputs": [],
   "source": []
  },
  {
   "cell_type": "code",
   "execution_count": 123,
   "id": "10d639d0-6b50-4e4e-817b-8e917dd74330",
   "metadata": {},
   "outputs": [],
   "source": [
    "class Car:\n",
    "    pass"
   ]
  },
  {
   "cell_type": "code",
   "execution_count": null,
   "id": "bb38394d-8d91-462e-9054-e030b3b9bacd",
   "metadata": {},
   "outputs": [],
   "source": []
  },
  {
   "cell_type": "code",
   "execution_count": null,
   "id": "2e61b227-582d-422c-a3f0-d3d8910a4a0d",
   "metadata": {},
   "outputs": [],
   "source": []
  },
  {
   "cell_type": "code",
   "execution_count": null,
   "id": "9eb1aaa5-6df8-4f32-9615-c427f32db0eb",
   "metadata": {},
   "outputs": [],
   "source": []
  }
 ],
 "metadata": {
  "kernelspec": {
   "display_name": "Python 3 (ipykernel)",
   "language": "python",
   "name": "python3"
  },
  "language_info": {
   "codemirror_mode": {
    "name": "ipython",
    "version": 3
   },
   "file_extension": ".py",
   "mimetype": "text/x-python",
   "name": "python",
   "nbconvert_exporter": "python",
   "pygments_lexer": "ipython3",
   "version": "3.11.5"
  }
 },
 "nbformat": 4,
 "nbformat_minor": 5
}
