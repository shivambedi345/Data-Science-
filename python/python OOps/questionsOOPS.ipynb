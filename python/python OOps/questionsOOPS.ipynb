{
 "cells": [
  {
   "cell_type": "markdown",
   "id": "cea8287a",
   "metadata": {},
   "source": [
    "#### Design a class "
   ]
  },
  {
   "cell_type": "code",
   "execution_count": 1,
   "id": "70c12ee3",
   "metadata": {},
   "outputs": [
    {
     "name": "stdout",
     "output_type": "stream",
     "text": [
      "Hello World\n"
     ]
    }
   ],
   "source": [
    "class MyClass:\n",
    "    def display(self):\n",
    "        print(\"Hello World\")\n",
    "        \n",
    "obj = MyClass()\n",
    "obj.display()"
   ]
  },
  {
   "cell_type": "code",
   "execution_count": 2,
   "id": "ee6723e7",
   "metadata": {},
   "outputs": [
    {
     "name": "stdout",
     "output_type": "stream",
     "text": [
      "Default\n"
     ]
    }
   ],
   "source": [
    "## constructor in python\n",
    "class User:\n",
    "    def __init__(self):\n",
    "        self.name = \"Default\"\n",
    "\n",
    "user = User()\n",
    "print(user.name)"
   ]
  },
  {
   "cell_type": "code",
   "execution_count": 6,
   "id": "4a18b816",
   "metadata": {},
   "outputs": [
    {
     "name": "stdout",
     "output_type": "stream",
     "text": [
      "Geeks\n",
      "John\n",
      "21\n"
     ]
    }
   ],
   "source": [
    "class Person:\n",
    "    def __init__(self):\n",
    "        self.__name = \"Geeks\"\n",
    "        self.__age = 10\n",
    "\n",
    "    def get_name(self):\n",
    "        return self.__name\n",
    "\n",
    "    def set_name(self, name):\n",
    "        self.__name = name\n",
    "\n",
    "    def get_age(self):\n",
    "        return self.__age\n",
    "\n",
    "    def set_age(self, age):\n",
    "        self.__age = age\n",
    "\n",
    "person = Person()\n",
    "print(person.get_name())    # Geeks\n",
    "person.set_name(\"John\")\n",
    "person.set_age(21)\n",
    "print(person.get_name())    # John\n",
    "print(person.get_age())     # 21\n",
    "    "
   ]
  },
  {
   "cell_type": "code",
   "execution_count": 7,
   "id": "c422f54b",
   "metadata": {},
   "outputs": [],
   "source": [
    "# abstract class in python\n",
    "from abc import ABC, abstractmethod\n",
    "class Shape:\n",
    "    def __shape__(self):\n",
    "        pass"
   ]
  },
  {
   "cell_type": "code",
   "execution_count": 14,
   "id": "ff881451",
   "metadata": {},
   "outputs": [
    {
     "name": "stdout",
     "output_type": "stream",
     "text": [
      "15\n"
     ]
    }
   ],
   "source": [
    "class Addition:\n",
    "    @staticmethod\n",
    "    def add(a, b):\n",
    "        return int(a + b)\n",
    "addition = Addition()\n",
    "print(addition.add(5, 10))  # 15\n"
   ]
  },
  {
   "cell_type": "code",
   "execution_count": null,
   "id": "4e5f8744",
   "metadata": {},
   "outputs": [],
   "source": [
    "class Employee:\n",
    "    def __init__(self, id: int, salary: int):\n",
    "        self.id = id\n",
    "        self.salary = salary\n",
    "class SalesEmployee(Employee):\n",
    "    def __init__(self, id: int, salary: int, sales: int):\n",
    "        super().__init__(id, salary)\n",
    "        self.sales = sales\n",
    "\n"
   ]
  },
  {
   "cell_type": "code",
   "execution_count": null,
   "id": "5454f60f",
   "metadata": {},
   "outputs": [],
   "source": [
    "class Student:\n",
    "    def __init__(self, sid: int, deptid: int):\n",
    "        self.sid = sid\n",
    "        self.deptid = deptid\n",
    "    get_info = lambda self: f\"StudentID:{self.sid} DepartmentID:{self.deptid}\"\n",
    "\n",
    "class Faculty:\n",
    "    def __init__(self, eid: int, deptid: int):\n",
    "        self.eid = eid\n",
    "        self.deptid = deptid\n",
    "    get_info = lambda self: f\"EmployeeID:{self.eid} DepartmentID:{self.deptid}\"\n",
    "class PhDStudent(Student, Faculty):\n",
    "    def __init__(self, sid: int, eid: int,deptid: int):\n",
    "        Student.__init__(self, sid, deptid)\n",
    "        Faculty.__init__(self, eid, deptid)\n",
    "    \n",
    "    def get_info(self):\n",
    "        return f\"StudentID:{self.sid} EmployeeID:{self.eid} DepartmentID:{self.deptid}\"\n"
   ]
  },
  {
   "cell_type": "code",
   "execution_count": 17,
   "id": "3cfd825d",
   "metadata": {},
   "outputs": [],
   "source": [
    "class Employee:\n",
    "    def __init__(self, id: int, salary: int):\n",
    "        self.id = id\n",
    "        self.salary = salary\n",
    "    get_info = lambda self: f\"EmployeeID:{self.id} Salary:{self.salary}\"\n",
    "    \n",
    "class SalesEmployee(Employee):\n",
    "    def __init__(self, id: int, salary: int, sales: int):\n",
    "        super().__init__(id, salary)\n",
    "        self.sales = sales\n",
    "    get_info = lambda self: f\"EmployeeID:{self.id} Salary:{self.salary} Sales:{self.sales}\"\n",
    "    "
   ]
  },
  {
   "cell_type": "code",
   "execution_count": 18,
   "id": "034254c3",
   "metadata": {},
   "outputs": [],
   "source": [
    "#User function Template for python3\n",
    "#Complete the given class\n",
    "class ComplexNumber:\n",
    "    def __init__(self, real, imaginary):\n",
    "        self.real = real\n",
    "        self.imaginary = imaginary\n",
    "    \n",
    "    # Overload the + operator for adding two complex numbers\n",
    "    def __add__(self, other):\n",
    "        real_sum = self.real + other.real\n",
    "        imaginary_sum = self.imaginary + other.imaginary\n",
    "        return ComplexNumber(real_sum, imaginary_sum)\n",
    "        # Your code here\n",
    "    \n",
    "    # Overload the string representation of the object\n",
    "    def __str__(self):\n",
    "        # Your code here\n",
    "        return f\"{self.real} + {self.imaginary}i\""
   ]
  }
 ],
 "metadata": {
  "kernelspec": {
   "display_name": "base",
   "language": "python",
   "name": "python3"
  },
  "language_info": {
   "codemirror_mode": {
    "name": "ipython",
    "version": 3
   },
   "file_extension": ".py",
   "mimetype": "text/x-python",
   "name": "python",
   "nbconvert_exporter": "python",
   "pygments_lexer": "ipython3",
   "version": "3.12.7"
  }
 },
 "nbformat": 4,
 "nbformat_minor": 5
}
