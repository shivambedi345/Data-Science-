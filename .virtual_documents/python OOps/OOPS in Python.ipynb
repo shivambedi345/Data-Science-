Sellers



seller1Name = "A"
seller1Address = "ABC"
seller1Money = 123


seller2Name = "B"
seller2Address = "DEF"
seller2Money = 456


seller3Name = "C"
seller3Address = "GFH"
seller3Money = 


sellerName = ["A","B", "D"]


sellerName[2]


seller1.Name
seller1.Address














a = 5


print(type(a))


b = 5.5 
print(type(b))


s1 = "Mayank"
print(type(s1))


s1.upper()


l1 = [1,2,3,4]


l1.append(4)


c = 4+5j


c.real


c.imag














class Car:
    pass


Car


int














c1 = 3+6j
c2 = 7+5j


print(type(c1), type(c2))


s1.append('abc')


def sum(a,b):
    pass


print(type(sum))








print(type(a))


class Car:
    pass


swift = Car()


print(type(swift))


a = 5
print(type(a))


l1 = [] 
t1 = ()


a1 = int()
a1


print(type(a1))


















