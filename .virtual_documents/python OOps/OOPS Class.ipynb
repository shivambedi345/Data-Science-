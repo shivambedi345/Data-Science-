def hello(arg1,kyaBolnaHain,kiskoBolnaHai,kaiseBolnaHain):
    print(arg1)
    name = "DSA"
    kyaBolnaHain = 1
    kiskoBolnaHai = 2
    kaiseBolnaHain = 3
    print(name,)
    print("Hello Python")


l1.sort()


l1


hello(l1)


s1 = "Mayank"
hello(s1)


name


print(id(s1))
id


2 things
1. School
2. Number of Students


class Student:
    numberOfStudents = 0
    schoolName = "MAPS"
    
    def __init__(self,name,rollNumber,marks):
        # print(id(self))
        self.rollNumber = rollNumber
        self.name = name
        self.marks = marks
        self.numberOfStudents  = Student.numberOfStudents + 1
        Student.numberOfStudents = Student.numberOfStudents + 1
        
    def study(self):
        print("I am "+ str(self.rollNumber) +" and I am  studying")
        
    def play(self):
        print("Pdh liya, now going to play")


s1 = Student("Mayank",1,90)


s2 = Student("Goku",2,50)


Student.schoolName


s1.numberOfStudents, s2.numberOfStudents


Student("ABC",3,75)


s1.numberOfStudents


s1.name,s1.rollNumber,s1.marks


s1.study()


print(id(s1))


s2 =Student("Goku",2,50)


s2.name,s2.rollNumber,s2.marks


print(id(s1))


s1.
