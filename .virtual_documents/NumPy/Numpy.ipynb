


import numpy as np


x = np.array([1, 2, 3])
y = [1, 2, 3]
print(x)
print("------------")
print(y)


%timeit [j**4 for j in range(1,9)]


import numpy as np
%timeit np.arange(1,9)**4





a = np.array([1, 3, 4])
b = np.array([2, 4, 5])
print(a)
print(b)


x = [1, 2, 3, 4]
y = np.array(x)
print(y)
y
print(type(y))
print(y.ndim)


l = []
for i in range(1,5):
    int_1 = int(input("enter your value"))
    l.append(int_1)

print(np.array(l))






# 2d array
ar2 = np.array([[1,2,3,4],[1,2,5,3]])
print(ar2)
print(ar2.ndim)


# 3d array
ar3 = np.array([[[1,2,3],[2,3,4],[2,3,4]]])
print(ar3)
print(ar3.ndim)


arm = np.array([1,2,3,4,5,6], ndmin = 10)
print(arm)
print(arm.ndim)








import numpy as np
ar_zero = np.zeros(4)
ar_zero1 = np.zeros((3,4))
print(ar_zero)
print()
print(ar_zero1)





ar_one = np.ones(5)
print(ar_one)


ar_one1 = np.ones((2,5))
print(ar_one1)





ar_em = np.empty(4)
print(ar_em)





ar_rn = np.arange(4)
print(ar_rn)





ar_di = np.eye(3,5)
print(ar_di)         # try to use sq matrix





# linespace function
ar_lin = np.linspace(0,10,num=5)
print(ar_lin)





var = np.random.rand(5)
print(var)


var1 = np.random.rand(2,5)
print(var1)


var2 = np.random.randn(5)
print(var2)


var3 = np.random.ranf(4)
print(var3)


var4 = np.random.randint(5,20,5)
print(var4)





var = np.array([1,2,34,4,345])
print("Data type:",var.dtype)





var = np.array([1.0,2.5,3.4,4,3.45])
print("Data type:",var.dtype)


var = np.array(['a','v'])
print("Data type:",var.dtype)


x = np.array([1,2,3,4],dtype = np.int8)
print("Data type" , x.dtype)
print(x)


x1 = np.array([1,2,3,4],dtype = "f")
print("Data type" , x1.dtype)
print(x1)


x2 = np.array([1,2,3,4])
new = np.float32(x2)
new1 = np.int_(new)
print("Data type" , x2.dtype)
print("Data type" , new.dtype)
print("Data type" , new1.dtype)
print(x2)
print(new)
print(new1)


import numpy as np
arr1 = np.array([[2,3,4],[3,4,5]])
print(arr1)
print()
print(arr1.shape)


arr2 = np.array([1,3,4,5,6,3], ndmin = 5)
print(arr2)
print(arr2.shape)
print(arr2.ndim)





arr3 = np.array([1,2,3,4,5,6])
x1 = arr3.reshape(3,2)
print(x1)


print(x1.reshape(-1))





var = np.array([1,2,3,4])
varadd = var + 3
print(varadd)


arr1 = np.array([1,2,3,4])
arr2 = np.array([3,4,5,6])
vacadd = arr1 + arr2
print(vacadd)


arr1 = np.array([1,2,3,4])
arr2 = np.array([3,4,5,6])
subadd = arr1 - arr2
print(subadd)


arr1 = np.array([1,2,3,4])
arr2 = np.array([3,4,5,6])
muladd = arr1 * arr2
print(muladd)


arr1 = np.array([1,2,3,4])
arr2 = np.array([3,4,5,6])
divadd = arr1 / arr2
print(divadd)


# some functions inbuilt
a = arr1
b = arr2
np.add(a,b)
np.subtract(a,b)
np.divide(a,b)
np.power(a,b)
np.reciprocal(a,b)





var21 = np.array([[1,2,3],[4,5,6]])
var31 = np.array([[1,2,3],[4,5,6]])
var2add = var21 + var31
print(var2add)





var = np.array([1,2,3,4,5,6])
print("min:",np.min(var))
print("max:",np.max(var))
print("argmin:",np.argmin(var))
print("argmax:",np.argmax(var))


var1 = np.array([[2,3,4],[9,6,8]])
print("min:",np.min(var1,axis = 1))

print()
var1 = np.array([[2,3,4],[9,6,8]])
print("max:",np.max(var1,axis = 1))


print(np.sqrt(var1))


print(np.sin(var1))
print()
print(np.cos(var1))


print("cumsum",np.cumsum(var1))





var1 = np.array([1,2,3,4])
var2 = np.array([1,2,3,4])
print(var1+var2)
# 1 same dimension
# (1 * 3) (3 * 1)


x = np.array([[1],[2]])
print(x.shape)
y = np.array([[1,2,3],[1,2,3]])
print(y.shape)
print()
print(x+y)





 a = np.array([1,3,4,3])
print(a[2])


b = np.array([[9,8,7],[4,5,6]])
print(b)
print()
print(b.ndim)
print()
print(b[1][2])



var2 = np.array([[[1,2],[1,5]]])
print(var2)
print(var2.ndim)
print(var2[0,1,1])


var = np.array([1,2,3,4,5,6,7])
print(var)
print()

print("2 to end->",var[2:7])


 vr1 = np.array([[1,2,3,4,5],[9,8,7,7,6],[10,22,3,4,5]])
print(vr1)
print()
print(vr1[1,1:])





import numpy as np
arr = np.array([1,2,3,2,5,6,7,2,9,20])
x = np.where(arr == 2)
print(x)


y = np.where(arr%2 == 0)
print(y)





import numpy as np
arr = np.array([1,2,2,5,6,7,2,9,20])
x = np.searchsorted(arr,2)
print(x)





arr1 = np.array([1,4,2,5,4,3,25])
print(np.sort(arr1))



